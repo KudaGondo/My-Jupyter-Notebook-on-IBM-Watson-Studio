{
 "cells": [
  {
   "cell_type": "markdown",
   "id": "ddbca2fb-32ab-4349-8219-634d0989c50e",
   "metadata": {},
   "source": [
    "# My Jupyter Notebook on IBM Watson Studio"
   ]
  },
  {
   "cell_type": "markdown",
   "id": "9b7ed072-41af-4db3-8199-e1502c66f984",
   "metadata": {},
   "source": [
    "**Kudakwashe Gondo**\n",
    "Data Scientist"
   ]
  },
  {
   "cell_type": "markdown",
   "id": "5f9c3d20-b41d-462b-80e2-35621c9eb6d0",
   "metadata": {},
   "source": [
    "*I am interested in data science because Data Science enables businesses to efficiently understand gigantic data from multiple \n",
    "sources and derive valuable insights to make smarter data-driven decisions."
   ]
  },
  {
   "cell_type": "markdown",
   "id": "138de874-455d-4d3c-96af-d21238c9a43d",
   "metadata": {
    "tags": []
   },
   "source": [
    "### My code is supposed to do a multiplication calculation of two numbers and give a result"
   ]
  },
  {
   "cell_type": "code",
   "execution_count": 1,
   "id": "cc9e1bb4-8416-4d95-ba7d-da0e67c0430a",
   "metadata": {},
   "outputs": [
    {
     "data": {
      "text/plain": [
       "96"
      ]
     },
     "execution_count": 1,
     "metadata": {},
     "output_type": "execute_result"
    }
   ],
   "source": [
    "24*4"
   ]
  },
  {
   "cell_type": "markdown",
   "id": "38bba4a2-1233-4500-8f6c-573ae8e25859",
   "metadata": {},
   "source": [
    "* Car\n",
    "* Van\n",
    "- Truck\n",
    "- Lorry"
   ]
  },
  {
   "cell_type": "markdown",
   "id": "c9b45310-b629-4e8f-b80f-fd9fadad72ce",
   "metadata": {},
   "source": [
    "1. House\n",
    "2. Shops\n",
    "3. Mall\n",
    "4. Supermarket"
   ]
  },
  {
   "cell_type": "markdown",
   "id": "2df512bd-acbe-4926-ad93-11280a6599f5",
   "metadata": {},
   "source": [
    "~~Here we go"
   ]
  }
 ],
 "metadata": {
  "kernelspec": {
   "display_name": "Python",
   "language": "python",
   "name": "conda-env-python-py"
  },
  "language_info": {
   "codemirror_mode": {
    "name": "ipython",
    "version": 3
   },
   "file_extension": ".py",
   "mimetype": "text/x-python",
   "name": "python",
   "nbconvert_exporter": "python",
   "pygments_lexer": "ipython3",
   "version": "3.7.12"
  }
 },
 "nbformat": 4,
 "nbformat_minor": 5
}
